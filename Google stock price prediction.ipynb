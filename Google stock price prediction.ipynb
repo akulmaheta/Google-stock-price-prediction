{
  "nbformat": 4,
  "nbformat_minor": 0,
  "metadata": {
    "colab": {
      "provenance": []
    },
    "kernelspec": {
      "name": "python3",
      "display_name": "Python 3"
    },
    "language_info": {
      "name": "python"
    }
  },
  "cells": [
    {
      "cell_type": "markdown",
      "source": [
        "##Importing Libraries"
      ],
      "metadata": {
        "id": "Kx9EZCDHLOgS"
      }
    },
    {
      "cell_type": "code",
      "source": [
        "import pandas as pd\n",
        "import numpy as np\n",
        "import matplotlib.pyplot as plt\n",
        "%matplotlib inline\n",
        "import seaborn as sns\n",
        "import math"
      ],
      "metadata": {
        "id": "QktNFOHOImZn"
      },
      "execution_count": 41,
      "outputs": []
    },
    {
      "cell_type": "code",
      "source": [
        "data = pd.read_csv('/content/GOOGL.csv')"
      ],
      "metadata": {
        "id": "mLnzKTnBItqW"
      },
      "execution_count": 42,
      "outputs": []
    },
    {
      "cell_type": "code",
      "source": [
        "data.head()"
      ],
      "metadata": {
        "colab": {
          "base_uri": "https://localhost:8080/",
          "height": 206
        },
        "id": "73Qy62ALI0Im",
        "outputId": "d50b2987-8ea1-4034-e7f2-6fbf55d1dfde"
      },
      "execution_count": 43,
      "outputs": [
        {
          "output_type": "execute_result",
          "data": {
            "text/plain": [
              "         Date       Open       High        Low      Close  Adj Close    Volume\n",
              "0  2017-02-03  41.156502  41.306499  40.967499  41.006500  41.006500  30562000\n",
              "1  2017-02-06  41.046001  41.119499  40.714500  41.081001  41.081001  27018000\n",
              "2  2017-02-07  41.275002  41.596001  41.164501  41.461498  41.461498  33332000\n",
              "3  2017-02-08  41.526501  41.712502  41.255501  41.493999  41.493999  26044000\n",
              "4  2017-02-09  41.586498  41.598999  41.325001  41.502998  41.502998  23884000"
            ],
            "text/html": [
              "\n",
              "  <div id=\"df-1f1bcab6-fa94-4af4-9e94-cddec3ab764e\">\n",
              "    <div class=\"colab-df-container\">\n",
              "      <div>\n",
              "<style scoped>\n",
              "    .dataframe tbody tr th:only-of-type {\n",
              "        vertical-align: middle;\n",
              "    }\n",
              "\n",
              "    .dataframe tbody tr th {\n",
              "        vertical-align: top;\n",
              "    }\n",
              "\n",
              "    .dataframe thead th {\n",
              "        text-align: right;\n",
              "    }\n",
              "</style>\n",
              "<table border=\"1\" class=\"dataframe\">\n",
              "  <thead>\n",
              "    <tr style=\"text-align: right;\">\n",
              "      <th></th>\n",
              "      <th>Date</th>\n",
              "      <th>Open</th>\n",
              "      <th>High</th>\n",
              "      <th>Low</th>\n",
              "      <th>Close</th>\n",
              "      <th>Adj Close</th>\n",
              "      <th>Volume</th>\n",
              "    </tr>\n",
              "  </thead>\n",
              "  <tbody>\n",
              "    <tr>\n",
              "      <th>0</th>\n",
              "      <td>2017-02-03</td>\n",
              "      <td>41.156502</td>\n",
              "      <td>41.306499</td>\n",
              "      <td>40.967499</td>\n",
              "      <td>41.006500</td>\n",
              "      <td>41.006500</td>\n",
              "      <td>30562000</td>\n",
              "    </tr>\n",
              "    <tr>\n",
              "      <th>1</th>\n",
              "      <td>2017-02-06</td>\n",
              "      <td>41.046001</td>\n",
              "      <td>41.119499</td>\n",
              "      <td>40.714500</td>\n",
              "      <td>41.081001</td>\n",
              "      <td>41.081001</td>\n",
              "      <td>27018000</td>\n",
              "    </tr>\n",
              "    <tr>\n",
              "      <th>2</th>\n",
              "      <td>2017-02-07</td>\n",
              "      <td>41.275002</td>\n",
              "      <td>41.596001</td>\n",
              "      <td>41.164501</td>\n",
              "      <td>41.461498</td>\n",
              "      <td>41.461498</td>\n",
              "      <td>33332000</td>\n",
              "    </tr>\n",
              "    <tr>\n",
              "      <th>3</th>\n",
              "      <td>2017-02-08</td>\n",
              "      <td>41.526501</td>\n",
              "      <td>41.712502</td>\n",
              "      <td>41.255501</td>\n",
              "      <td>41.493999</td>\n",
              "      <td>41.493999</td>\n",
              "      <td>26044000</td>\n",
              "    </tr>\n",
              "    <tr>\n",
              "      <th>4</th>\n",
              "      <td>2017-02-09</td>\n",
              "      <td>41.586498</td>\n",
              "      <td>41.598999</td>\n",
              "      <td>41.325001</td>\n",
              "      <td>41.502998</td>\n",
              "      <td>41.502998</td>\n",
              "      <td>23884000</td>\n",
              "    </tr>\n",
              "  </tbody>\n",
              "</table>\n",
              "</div>\n",
              "      <button class=\"colab-df-convert\" onclick=\"convertToInteractive('df-1f1bcab6-fa94-4af4-9e94-cddec3ab764e')\"\n",
              "              title=\"Convert this dataframe to an interactive table.\"\n",
              "              style=\"display:none;\">\n",
              "        \n",
              "  <svg xmlns=\"http://www.w3.org/2000/svg\" height=\"24px\"viewBox=\"0 0 24 24\"\n",
              "       width=\"24px\">\n",
              "    <path d=\"M0 0h24v24H0V0z\" fill=\"none\"/>\n",
              "    <path d=\"M18.56 5.44l.94 2.06.94-2.06 2.06-.94-2.06-.94-.94-2.06-.94 2.06-2.06.94zm-11 1L8.5 8.5l.94-2.06 2.06-.94-2.06-.94L8.5 2.5l-.94 2.06-2.06.94zm10 10l.94 2.06.94-2.06 2.06-.94-2.06-.94-.94-2.06-.94 2.06-2.06.94z\"/><path d=\"M17.41 7.96l-1.37-1.37c-.4-.4-.92-.59-1.43-.59-.52 0-1.04.2-1.43.59L10.3 9.45l-7.72 7.72c-.78.78-.78 2.05 0 2.83L4 21.41c.39.39.9.59 1.41.59.51 0 1.02-.2 1.41-.59l7.78-7.78 2.81-2.81c.8-.78.8-2.07 0-2.86zM5.41 20L4 18.59l7.72-7.72 1.47 1.35L5.41 20z\"/>\n",
              "  </svg>\n",
              "      </button>\n",
              "      \n",
              "  <style>\n",
              "    .colab-df-container {\n",
              "      display:flex;\n",
              "      flex-wrap:wrap;\n",
              "      gap: 12px;\n",
              "    }\n",
              "\n",
              "    .colab-df-convert {\n",
              "      background-color: #E8F0FE;\n",
              "      border: none;\n",
              "      border-radius: 50%;\n",
              "      cursor: pointer;\n",
              "      display: none;\n",
              "      fill: #1967D2;\n",
              "      height: 32px;\n",
              "      padding: 0 0 0 0;\n",
              "      width: 32px;\n",
              "    }\n",
              "\n",
              "    .colab-df-convert:hover {\n",
              "      background-color: #E2EBFA;\n",
              "      box-shadow: 0px 1px 2px rgba(60, 64, 67, 0.3), 0px 1px 3px 1px rgba(60, 64, 67, 0.15);\n",
              "      fill: #174EA6;\n",
              "    }\n",
              "\n",
              "    [theme=dark] .colab-df-convert {\n",
              "      background-color: #3B4455;\n",
              "      fill: #D2E3FC;\n",
              "    }\n",
              "\n",
              "    [theme=dark] .colab-df-convert:hover {\n",
              "      background-color: #434B5C;\n",
              "      box-shadow: 0px 1px 3px 1px rgba(0, 0, 0, 0.15);\n",
              "      filter: drop-shadow(0px 1px 2px rgba(0, 0, 0, 0.3));\n",
              "      fill: #FFFFFF;\n",
              "    }\n",
              "  </style>\n",
              "\n",
              "      <script>\n",
              "        const buttonEl =\n",
              "          document.querySelector('#df-1f1bcab6-fa94-4af4-9e94-cddec3ab764e button.colab-df-convert');\n",
              "        buttonEl.style.display =\n",
              "          google.colab.kernel.accessAllowed ? 'block' : 'none';\n",
              "\n",
              "        async function convertToInteractive(key) {\n",
              "          const element = document.querySelector('#df-1f1bcab6-fa94-4af4-9e94-cddec3ab764e');\n",
              "          const dataTable =\n",
              "            await google.colab.kernel.invokeFunction('convertToInteractive',\n",
              "                                                     [key], {});\n",
              "          if (!dataTable) return;\n",
              "\n",
              "          const docLinkHtml = 'Like what you see? Visit the ' +\n",
              "            '<a target=\"_blank\" href=https://colab.research.google.com/notebooks/data_table.ipynb>data table notebook</a>'\n",
              "            + ' to learn more about interactive tables.';\n",
              "          element.innerHTML = '';\n",
              "          dataTable['output_type'] = 'display_data';\n",
              "          await google.colab.output.renderOutput(dataTable, element);\n",
              "          const docLink = document.createElement('div');\n",
              "          docLink.innerHTML = docLinkHtml;\n",
              "          element.appendChild(docLink);\n",
              "        }\n",
              "      </script>\n",
              "    </div>\n",
              "  </div>\n",
              "  "
            ]
          },
          "metadata": {},
          "execution_count": 43
        }
      ]
    },
    {
      "cell_type": "code",
      "source": [
        "data.tail()"
      ],
      "metadata": {
        "colab": {
          "base_uri": "https://localhost:8080/",
          "height": 206
        },
        "id": "vMYnB_bjI1Co",
        "outputId": "2562bdea-61ea-4995-991b-a0d8763ab63c"
      },
      "execution_count": 44,
      "outputs": [
        {
          "output_type": "execute_result",
          "data": {
            "text/plain": [
              "            Date        Open        High         Low       Close   Adj Close  \\\n",
              "1505  2023-01-27   97.309998  100.320000   97.309998   99.370003   99.370003   \n",
              "1506  2023-01-30   97.480003   98.290001   96.400002   96.940002   96.940002   \n",
              "1507  2023-01-31   96.870003   98.879997   96.820000   98.839996   98.839996   \n",
              "1508  2023-02-01   98.709999  101.190002   97.580002  100.430000  100.430000   \n",
              "1509  2023-02-02  105.800003  107.849998  105.610001  107.739998  107.739998   \n",
              "\n",
              "        Volume  \n",
              "1505  33850200  \n",
              "1506  27226200  \n",
              "1507  29870700  \n",
              "1508  35531100  \n",
              "1509  69883800  "
            ],
            "text/html": [
              "\n",
              "  <div id=\"df-6c32b9a0-92e3-48de-8189-e11853833523\">\n",
              "    <div class=\"colab-df-container\">\n",
              "      <div>\n",
              "<style scoped>\n",
              "    .dataframe tbody tr th:only-of-type {\n",
              "        vertical-align: middle;\n",
              "    }\n",
              "\n",
              "    .dataframe tbody tr th {\n",
              "        vertical-align: top;\n",
              "    }\n",
              "\n",
              "    .dataframe thead th {\n",
              "        text-align: right;\n",
              "    }\n",
              "</style>\n",
              "<table border=\"1\" class=\"dataframe\">\n",
              "  <thead>\n",
              "    <tr style=\"text-align: right;\">\n",
              "      <th></th>\n",
              "      <th>Date</th>\n",
              "      <th>Open</th>\n",
              "      <th>High</th>\n",
              "      <th>Low</th>\n",
              "      <th>Close</th>\n",
              "      <th>Adj Close</th>\n",
              "      <th>Volume</th>\n",
              "    </tr>\n",
              "  </thead>\n",
              "  <tbody>\n",
              "    <tr>\n",
              "      <th>1505</th>\n",
              "      <td>2023-01-27</td>\n",
              "      <td>97.309998</td>\n",
              "      <td>100.320000</td>\n",
              "      <td>97.309998</td>\n",
              "      <td>99.370003</td>\n",
              "      <td>99.370003</td>\n",
              "      <td>33850200</td>\n",
              "    </tr>\n",
              "    <tr>\n",
              "      <th>1506</th>\n",
              "      <td>2023-01-30</td>\n",
              "      <td>97.480003</td>\n",
              "      <td>98.290001</td>\n",
              "      <td>96.400002</td>\n",
              "      <td>96.940002</td>\n",
              "      <td>96.940002</td>\n",
              "      <td>27226200</td>\n",
              "    </tr>\n",
              "    <tr>\n",
              "      <th>1507</th>\n",
              "      <td>2023-01-31</td>\n",
              "      <td>96.870003</td>\n",
              "      <td>98.879997</td>\n",
              "      <td>96.820000</td>\n",
              "      <td>98.839996</td>\n",
              "      <td>98.839996</td>\n",
              "      <td>29870700</td>\n",
              "    </tr>\n",
              "    <tr>\n",
              "      <th>1508</th>\n",
              "      <td>2023-02-01</td>\n",
              "      <td>98.709999</td>\n",
              "      <td>101.190002</td>\n",
              "      <td>97.580002</td>\n",
              "      <td>100.430000</td>\n",
              "      <td>100.430000</td>\n",
              "      <td>35531100</td>\n",
              "    </tr>\n",
              "    <tr>\n",
              "      <th>1509</th>\n",
              "      <td>2023-02-02</td>\n",
              "      <td>105.800003</td>\n",
              "      <td>107.849998</td>\n",
              "      <td>105.610001</td>\n",
              "      <td>107.739998</td>\n",
              "      <td>107.739998</td>\n",
              "      <td>69883800</td>\n",
              "    </tr>\n",
              "  </tbody>\n",
              "</table>\n",
              "</div>\n",
              "      <button class=\"colab-df-convert\" onclick=\"convertToInteractive('df-6c32b9a0-92e3-48de-8189-e11853833523')\"\n",
              "              title=\"Convert this dataframe to an interactive table.\"\n",
              "              style=\"display:none;\">\n",
              "        \n",
              "  <svg xmlns=\"http://www.w3.org/2000/svg\" height=\"24px\"viewBox=\"0 0 24 24\"\n",
              "       width=\"24px\">\n",
              "    <path d=\"M0 0h24v24H0V0z\" fill=\"none\"/>\n",
              "    <path d=\"M18.56 5.44l.94 2.06.94-2.06 2.06-.94-2.06-.94-.94-2.06-.94 2.06-2.06.94zm-11 1L8.5 8.5l.94-2.06 2.06-.94-2.06-.94L8.5 2.5l-.94 2.06-2.06.94zm10 10l.94 2.06.94-2.06 2.06-.94-2.06-.94-.94-2.06-.94 2.06-2.06.94z\"/><path d=\"M17.41 7.96l-1.37-1.37c-.4-.4-.92-.59-1.43-.59-.52 0-1.04.2-1.43.59L10.3 9.45l-7.72 7.72c-.78.78-.78 2.05 0 2.83L4 21.41c.39.39.9.59 1.41.59.51 0 1.02-.2 1.41-.59l7.78-7.78 2.81-2.81c.8-.78.8-2.07 0-2.86zM5.41 20L4 18.59l7.72-7.72 1.47 1.35L5.41 20z\"/>\n",
              "  </svg>\n",
              "      </button>\n",
              "      \n",
              "  <style>\n",
              "    .colab-df-container {\n",
              "      display:flex;\n",
              "      flex-wrap:wrap;\n",
              "      gap: 12px;\n",
              "    }\n",
              "\n",
              "    .colab-df-convert {\n",
              "      background-color: #E8F0FE;\n",
              "      border: none;\n",
              "      border-radius: 50%;\n",
              "      cursor: pointer;\n",
              "      display: none;\n",
              "      fill: #1967D2;\n",
              "      height: 32px;\n",
              "      padding: 0 0 0 0;\n",
              "      width: 32px;\n",
              "    }\n",
              "\n",
              "    .colab-df-convert:hover {\n",
              "      background-color: #E2EBFA;\n",
              "      box-shadow: 0px 1px 2px rgba(60, 64, 67, 0.3), 0px 1px 3px 1px rgba(60, 64, 67, 0.15);\n",
              "      fill: #174EA6;\n",
              "    }\n",
              "\n",
              "    [theme=dark] .colab-df-convert {\n",
              "      background-color: #3B4455;\n",
              "      fill: #D2E3FC;\n",
              "    }\n",
              "\n",
              "    [theme=dark] .colab-df-convert:hover {\n",
              "      background-color: #434B5C;\n",
              "      box-shadow: 0px 1px 3px 1px rgba(0, 0, 0, 0.15);\n",
              "      filter: drop-shadow(0px 1px 2px rgba(0, 0, 0, 0.3));\n",
              "      fill: #FFFFFF;\n",
              "    }\n",
              "  </style>\n",
              "\n",
              "      <script>\n",
              "        const buttonEl =\n",
              "          document.querySelector('#df-6c32b9a0-92e3-48de-8189-e11853833523 button.colab-df-convert');\n",
              "        buttonEl.style.display =\n",
              "          google.colab.kernel.accessAllowed ? 'block' : 'none';\n",
              "\n",
              "        async function convertToInteractive(key) {\n",
              "          const element = document.querySelector('#df-6c32b9a0-92e3-48de-8189-e11853833523');\n",
              "          const dataTable =\n",
              "            await google.colab.kernel.invokeFunction('convertToInteractive',\n",
              "                                                     [key], {});\n",
              "          if (!dataTable) return;\n",
              "\n",
              "          const docLinkHtml = 'Like what you see? Visit the ' +\n",
              "            '<a target=\"_blank\" href=https://colab.research.google.com/notebooks/data_table.ipynb>data table notebook</a>'\n",
              "            + ' to learn more about interactive tables.';\n",
              "          element.innerHTML = '';\n",
              "          dataTable['output_type'] = 'display_data';\n",
              "          await google.colab.output.renderOutput(dataTable, element);\n",
              "          const docLink = document.createElement('div');\n",
              "          docLink.innerHTML = docLinkHtml;\n",
              "          element.appendChild(docLink);\n",
              "        }\n",
              "      </script>\n",
              "    </div>\n",
              "  </div>\n",
              "  "
            ]
          },
          "metadata": {},
          "execution_count": 44
        }
      ]
    },
    {
      "cell_type": "code",
      "source": [
        "data.shape"
      ],
      "metadata": {
        "colab": {
          "base_uri": "https://localhost:8080/"
        },
        "id": "qV25rKcuI2ME",
        "outputId": "bf59acf3-8ef4-4437-e258-b3d16072b08f"
      },
      "execution_count": 45,
      "outputs": [
        {
          "output_type": "execute_result",
          "data": {
            "text/plain": [
              "(1510, 7)"
            ]
          },
          "metadata": {},
          "execution_count": 45
        }
      ]
    },
    {
      "cell_type": "code",
      "source": [
        "data.columns"
      ],
      "metadata": {
        "colab": {
          "base_uri": "https://localhost:8080/"
        },
        "id": "xfMiESdlI4k5",
        "outputId": "cd3b172c-f42a-48eb-98ee-6eaedf0a0c1f"
      },
      "execution_count": 46,
      "outputs": [
        {
          "output_type": "execute_result",
          "data": {
            "text/plain": [
              "Index(['Date', 'Open', 'High', 'Low', 'Close', 'Adj Close', 'Volume'], dtype='object')"
            ]
          },
          "metadata": {},
          "execution_count": 46
        }
      ]
    },
    {
      "cell_type": "code",
      "source": [
        "data.info()"
      ],
      "metadata": {
        "id": "ZWL5fP_TJGEe",
        "colab": {
          "base_uri": "https://localhost:8080/"
        },
        "outputId": "98a80e20-f1fd-4c48-b28d-1e26c3aafad4"
      },
      "execution_count": 47,
      "outputs": [
        {
          "output_type": "stream",
          "name": "stdout",
          "text": [
            "<class 'pandas.core.frame.DataFrame'>\n",
            "RangeIndex: 1510 entries, 0 to 1509\n",
            "Data columns (total 7 columns):\n",
            " #   Column     Non-Null Count  Dtype  \n",
            "---  ------     --------------  -----  \n",
            " 0   Date       1510 non-null   object \n",
            " 1   Open       1510 non-null   float64\n",
            " 2   High       1510 non-null   float64\n",
            " 3   Low        1510 non-null   float64\n",
            " 4   Close      1510 non-null   float64\n",
            " 5   Adj Close  1510 non-null   float64\n",
            " 6   Volume     1510 non-null   int64  \n",
            "dtypes: float64(5), int64(1), object(1)\n",
            "memory usage: 82.7+ KB\n"
          ]
        }
      ]
    },
    {
      "cell_type": "code",
      "source": [
        "data.describe()"
      ],
      "metadata": {
        "colab": {
          "base_uri": "https://localhost:8080/",
          "height": 300
        },
        "id": "h-L4ugBIToCu",
        "outputId": "a16a899d-2c35-45f8-8a51-2078de8d1246"
      },
      "execution_count": 48,
      "outputs": [
        {
          "output_type": "execute_result",
          "data": {
            "text/plain": [
              "              Open         High          Low        Close    Adj Close  \\\n",
              "count  1510.000000  1510.000000  1510.000000  1510.000000  1510.000000   \n",
              "mean     80.019292    80.879636    79.157566    80.040381    80.040381   \n",
              "std      31.335766    31.685616    30.939067    31.306427    31.306427   \n",
              "min      41.046001    41.119499    40.714500    41.006500    41.006500   \n",
              "25%      55.005125    55.670374    54.331249    55.013876    55.013876   \n",
              "50%      66.592499    67.122997    65.714000    66.512501    66.512501   \n",
              "75%     103.946503   105.277499   102.796877   104.322998   104.322998   \n",
              "max     151.250000   151.546494   148.899002   149.838501   149.838501   \n",
              "\n",
              "             Volume  \n",
              "count  1.510000e+03  \n",
              "mean   3.476913e+07  \n",
              "std    1.566391e+07  \n",
              "min    9.312000e+06  \n",
              "25%    2.499400e+07  \n",
              "50%    3.082400e+07  \n",
              "75%    3.970700e+07  \n",
              "max    1.331780e+08  "
            ],
            "text/html": [
              "\n",
              "  <div id=\"df-3cf2ef59-f753-43b0-8507-49e135b94b44\">\n",
              "    <div class=\"colab-df-container\">\n",
              "      <div>\n",
              "<style scoped>\n",
              "    .dataframe tbody tr th:only-of-type {\n",
              "        vertical-align: middle;\n",
              "    }\n",
              "\n",
              "    .dataframe tbody tr th {\n",
              "        vertical-align: top;\n",
              "    }\n",
              "\n",
              "    .dataframe thead th {\n",
              "        text-align: right;\n",
              "    }\n",
              "</style>\n",
              "<table border=\"1\" class=\"dataframe\">\n",
              "  <thead>\n",
              "    <tr style=\"text-align: right;\">\n",
              "      <th></th>\n",
              "      <th>Open</th>\n",
              "      <th>High</th>\n",
              "      <th>Low</th>\n",
              "      <th>Close</th>\n",
              "      <th>Adj Close</th>\n",
              "      <th>Volume</th>\n",
              "    </tr>\n",
              "  </thead>\n",
              "  <tbody>\n",
              "    <tr>\n",
              "      <th>count</th>\n",
              "      <td>1510.000000</td>\n",
              "      <td>1510.000000</td>\n",
              "      <td>1510.000000</td>\n",
              "      <td>1510.000000</td>\n",
              "      <td>1510.000000</td>\n",
              "      <td>1.510000e+03</td>\n",
              "    </tr>\n",
              "    <tr>\n",
              "      <th>mean</th>\n",
              "      <td>80.019292</td>\n",
              "      <td>80.879636</td>\n",
              "      <td>79.157566</td>\n",
              "      <td>80.040381</td>\n",
              "      <td>80.040381</td>\n",
              "      <td>3.476913e+07</td>\n",
              "    </tr>\n",
              "    <tr>\n",
              "      <th>std</th>\n",
              "      <td>31.335766</td>\n",
              "      <td>31.685616</td>\n",
              "      <td>30.939067</td>\n",
              "      <td>31.306427</td>\n",
              "      <td>31.306427</td>\n",
              "      <td>1.566391e+07</td>\n",
              "    </tr>\n",
              "    <tr>\n",
              "      <th>min</th>\n",
              "      <td>41.046001</td>\n",
              "      <td>41.119499</td>\n",
              "      <td>40.714500</td>\n",
              "      <td>41.006500</td>\n",
              "      <td>41.006500</td>\n",
              "      <td>9.312000e+06</td>\n",
              "    </tr>\n",
              "    <tr>\n",
              "      <th>25%</th>\n",
              "      <td>55.005125</td>\n",
              "      <td>55.670374</td>\n",
              "      <td>54.331249</td>\n",
              "      <td>55.013876</td>\n",
              "      <td>55.013876</td>\n",
              "      <td>2.499400e+07</td>\n",
              "    </tr>\n",
              "    <tr>\n",
              "      <th>50%</th>\n",
              "      <td>66.592499</td>\n",
              "      <td>67.122997</td>\n",
              "      <td>65.714000</td>\n",
              "      <td>66.512501</td>\n",
              "      <td>66.512501</td>\n",
              "      <td>3.082400e+07</td>\n",
              "    </tr>\n",
              "    <tr>\n",
              "      <th>75%</th>\n",
              "      <td>103.946503</td>\n",
              "      <td>105.277499</td>\n",
              "      <td>102.796877</td>\n",
              "      <td>104.322998</td>\n",
              "      <td>104.322998</td>\n",
              "      <td>3.970700e+07</td>\n",
              "    </tr>\n",
              "    <tr>\n",
              "      <th>max</th>\n",
              "      <td>151.250000</td>\n",
              "      <td>151.546494</td>\n",
              "      <td>148.899002</td>\n",
              "      <td>149.838501</td>\n",
              "      <td>149.838501</td>\n",
              "      <td>1.331780e+08</td>\n",
              "    </tr>\n",
              "  </tbody>\n",
              "</table>\n",
              "</div>\n",
              "      <button class=\"colab-df-convert\" onclick=\"convertToInteractive('df-3cf2ef59-f753-43b0-8507-49e135b94b44')\"\n",
              "              title=\"Convert this dataframe to an interactive table.\"\n",
              "              style=\"display:none;\">\n",
              "        \n",
              "  <svg xmlns=\"http://www.w3.org/2000/svg\" height=\"24px\"viewBox=\"0 0 24 24\"\n",
              "       width=\"24px\">\n",
              "    <path d=\"M0 0h24v24H0V0z\" fill=\"none\"/>\n",
              "    <path d=\"M18.56 5.44l.94 2.06.94-2.06 2.06-.94-2.06-.94-.94-2.06-.94 2.06-2.06.94zm-11 1L8.5 8.5l.94-2.06 2.06-.94-2.06-.94L8.5 2.5l-.94 2.06-2.06.94zm10 10l.94 2.06.94-2.06 2.06-.94-2.06-.94-.94-2.06-.94 2.06-2.06.94z\"/><path d=\"M17.41 7.96l-1.37-1.37c-.4-.4-.92-.59-1.43-.59-.52 0-1.04.2-1.43.59L10.3 9.45l-7.72 7.72c-.78.78-.78 2.05 0 2.83L4 21.41c.39.39.9.59 1.41.59.51 0 1.02-.2 1.41-.59l7.78-7.78 2.81-2.81c.8-.78.8-2.07 0-2.86zM5.41 20L4 18.59l7.72-7.72 1.47 1.35L5.41 20z\"/>\n",
              "  </svg>\n",
              "      </button>\n",
              "      \n",
              "  <style>\n",
              "    .colab-df-container {\n",
              "      display:flex;\n",
              "      flex-wrap:wrap;\n",
              "      gap: 12px;\n",
              "    }\n",
              "\n",
              "    .colab-df-convert {\n",
              "      background-color: #E8F0FE;\n",
              "      border: none;\n",
              "      border-radius: 50%;\n",
              "      cursor: pointer;\n",
              "      display: none;\n",
              "      fill: #1967D2;\n",
              "      height: 32px;\n",
              "      padding: 0 0 0 0;\n",
              "      width: 32px;\n",
              "    }\n",
              "\n",
              "    .colab-df-convert:hover {\n",
              "      background-color: #E2EBFA;\n",
              "      box-shadow: 0px 1px 2px rgba(60, 64, 67, 0.3), 0px 1px 3px 1px rgba(60, 64, 67, 0.15);\n",
              "      fill: #174EA6;\n",
              "    }\n",
              "\n",
              "    [theme=dark] .colab-df-convert {\n",
              "      background-color: #3B4455;\n",
              "      fill: #D2E3FC;\n",
              "    }\n",
              "\n",
              "    [theme=dark] .colab-df-convert:hover {\n",
              "      background-color: #434B5C;\n",
              "      box-shadow: 0px 1px 3px 1px rgba(0, 0, 0, 0.15);\n",
              "      filter: drop-shadow(0px 1px 2px rgba(0, 0, 0, 0.3));\n",
              "      fill: #FFFFFF;\n",
              "    }\n",
              "  </style>\n",
              "\n",
              "      <script>\n",
              "        const buttonEl =\n",
              "          document.querySelector('#df-3cf2ef59-f753-43b0-8507-49e135b94b44 button.colab-df-convert');\n",
              "        buttonEl.style.display =\n",
              "          google.colab.kernel.accessAllowed ? 'block' : 'none';\n",
              "\n",
              "        async function convertToInteractive(key) {\n",
              "          const element = document.querySelector('#df-3cf2ef59-f753-43b0-8507-49e135b94b44');\n",
              "          const dataTable =\n",
              "            await google.colab.kernel.invokeFunction('convertToInteractive',\n",
              "                                                     [key], {});\n",
              "          if (!dataTable) return;\n",
              "\n",
              "          const docLinkHtml = 'Like what you see? Visit the ' +\n",
              "            '<a target=\"_blank\" href=https://colab.research.google.com/notebooks/data_table.ipynb>data table notebook</a>'\n",
              "            + ' to learn more about interactive tables.';\n",
              "          element.innerHTML = '';\n",
              "          dataTable['output_type'] = 'display_data';\n",
              "          await google.colab.output.renderOutput(dataTable, element);\n",
              "          const docLink = document.createElement('div');\n",
              "          docLink.innerHTML = docLinkHtml;\n",
              "          element.appendChild(docLink);\n",
              "        }\n",
              "      </script>\n",
              "    </div>\n",
              "  </div>\n",
              "  "
            ]
          },
          "metadata": {},
          "execution_count": 48
        }
      ]
    },
    {
      "cell_type": "code",
      "source": [
        "#Heatmap\n",
        "corr =data.corr()\n",
        "f, ax = plt.subplots(figsize=(15,7))\n",
        "sns.heatmap(corr,annot=True,ax=ax, linewidths=0.5, linecolor= 'black', fmt='.4f')\n",
        "plt.show()"
      ],
      "metadata": {
        "colab": {
          "base_uri": "https://localhost:8080/",
          "height": 432
        },
        "id": "PamyuVNzTpPN",
        "outputId": "c4b4a4b3-b9ba-4a36-b505-69bac2a38a40"
      },
      "execution_count": 49,
      "outputs": [
        {
          "output_type": "display_data",
          "data": {
            "text/plain": [
              "<Figure size 1080x504 with 2 Axes>"
            ],
            "image/png": "[encoded data removed]"
          },
          "metadata": {
            "needs_background": "light"
          }
        }
      ]
    },
    {
      "cell_type": "code",
      "source": [
        "data_set = data.loc[:,['Open']].values\n",
        "print(data_set,'\\n')\n",
        "len(data_set)"
      ],
      "metadata": {
        "colab": {
          "base_uri": "https://localhost:8080/"
        },
        "id": "kxX5bYh6YL3n",
        "outputId": "a86e47ff-26f4-4ef8-ddcc-8cca0e983901"
      },
      "execution_count": 50,
      "outputs": [
        {
          "output_type": "stream",
          "name": "stdout",
          "text": [
            "[[ 41.156502]\n",
            " [ 41.046001]\n",
            " [ 41.275002]\n",
            " ...\n",
            " [ 96.870003]\n",
            " [ 98.709999]\n",
            " [105.800003]] \n",
            "\n"
          ]
        },
        {
          "output_type": "execute_result",
          "data": {
            "text/plain": [
              "1510"
            ]
          },
          "metadata": {},
          "execution_count": 50
        }
      ]
    },
    {
      "cell_type": "markdown",
      "source": [
        "Splitting Data for training and testing"
      ],
      "metadata": {
        "id": "-rH42iWMcLDv"
      }
    },
    {
      "cell_type": "code",
      "source": [
        "train = data_set[:-50]\n",
        "test = data_set[-50:]"
      ],
      "metadata": {
        "id": "y5LMGyO4bLkQ"
      },
      "execution_count": 51,
      "outputs": []
    },
    {
      "cell_type": "code",
      "source": [
        "train.shape"
      ],
      "metadata": {
        "colab": {
          "base_uri": "https://localhost:8080/"
        },
        "id": "LpZorszMbrYg",
        "outputId": "f6fb6bd6-67e1-4cf6-84bc-2052e43f9fd3"
      },
      "execution_count": 52,
      "outputs": [
        {
          "output_type": "execute_result",
          "data": {
            "text/plain": [
              "(1460, 1)"
            ]
          },
          "metadata": {},
          "execution_count": 52
        }
      ]
    },
    {
      "cell_type": "code",
      "source": [
        "test.shape"
      ],
      "metadata": {
        "colab": {
          "base_uri": "https://localhost:8080/"
        },
        "id": "daogPCYBbsOH",
        "outputId": "e62395dc-3a45-4351-8ff9-9f09a5d5d157"
      },
      "execution_count": 53,
      "outputs": [
        {
          "output_type": "execute_result",
          "data": {
            "text/plain": [
              "(50, 1)"
            ]
          },
          "metadata": {},
          "execution_count": 53
        }
      ]
    },
    {
      "cell_type": "code",
      "source": [
        "from sklearn.preprocessing import MinMaxScaler\n",
        "scaler = MinMaxScaler(feature_range=(0,1))\n",
        "train_scaler = scaler.fit_transform(train)\n",
        "train_scaler"
      ],
      "metadata": {
        "colab": {
          "base_uri": "https://localhost:8080/"
        },
        "id": "4N8C9j28brT4",
        "outputId": "8ad3d1e3-0bcb-4f79-95ca-efe5bc46ce6f"
      },
      "execution_count": 54,
      "outputs": [
        {
          "output_type": "execute_result",
          "data": {
            "text/plain": [
              "array([[0.0010027 ],\n",
              "       [0.        ],\n",
              "       [0.00207797],\n",
              "       ...,\n",
              "       [0.5158978 ],\n",
              "       [0.5074589 ],\n",
              "       [0.52379221]])"
            ]
          },
          "metadata": {},
          "execution_count": 54
        }
      ]
    },
    {
      "cell_type": "code",
      "source": [
        "plt.figure(figsize=(15,8))\n",
        "plt.plot(train_scaler)\n",
        "plt.show()"
      ],
      "metadata": {
        "colab": {
          "base_uri": "https://localhost:8080/",
          "height": 483
        },
        "id": "-as6R8AmbqPU",
        "outputId": "b71b1b8b-e9ed-4b1c-f6fd-c7ece5745c45"
      },
      "execution_count": 55,
      "outputs": [
        {
          "output_type": "display_data",
          "data": {
            "text/plain": [
              "<Figure size 1080x576 with 1 Axes>"
            ],
            "image/png": "[encoded data removed]"
          },
          "metadata": {
            "needs_background": "light"
          }
        }
      ]
    },
    {
      "cell_type": "code",
      "source": [
        "X_train = []\n",
        "Y_train = []\n",
        "timesteps = 50\n",
        "\n",
        "for i in range(timesteps, len(train_scaler)):\n",
        "  X_train.append(train_scaler[i - timesteps:i, 0])\n",
        "  Y_train.append(train_scaler[i,0])\n",
        "\n",
        "X_train, Y_train = np.array(X_train), np.array(Y_train)\n",
        "X_train = np.reshape(X_train, (X_train.shape[0], X_train.shape[1],1))"
      ],
      "metadata": {
        "id": "6FEir0VfdzgY"
      },
      "execution_count": 56,
      "outputs": []
    },
    {
      "cell_type": "code",
      "source": [
        "X_train.shape"
      ],
      "metadata": {
        "colab": {
          "base_uri": "https://localhost:8080/"
        },
        "id": "rFJu_Hf5e5F-",
        "outputId": "f12f2055-176d-43c1-a643-22dc6c1754be"
      },
      "execution_count": 57,
      "outputs": [
        {
          "output_type": "execute_result",
          "data": {
            "text/plain": [
              "(1410, 50, 1)"
            ]
          },
          "metadata": {},
          "execution_count": 57
        }
      ]
    },
    {
      "cell_type": "code",
      "source": [
        "Y_train.shape"
      ],
      "metadata": {
        "colab": {
          "base_uri": "https://localhost:8080/"
        },
        "id": "M3Sd6RJof73M",
        "outputId": "70323065-ff2a-4a86-ddd1-28501f477c21"
      },
      "execution_count": 58,
      "outputs": [
        {
          "output_type": "execute_result",
          "data": {
            "text/plain": [
              "(1410,)"
            ]
          },
          "metadata": {},
          "execution_count": 58
        }
      ]
    },
    {
      "cell_type": "markdown",
      "source": [
        "##Implementing RNN(Recurrent Neural Network)"
      ],
      "metadata": {
        "id": "vV3z8jMPQKMv"
      }
    },
    {
      "cell_type": "code",
      "source": [
        "from keras.models import Sequential\n",
        "from keras.layers import Dense,SimpleRNN,Dropout\n",
        "\n",
        "regressor = Sequential()\n",
        "\n",
        "# Add the first RNN Layer and Dropout regularisation\n",
        "regressor.add(SimpleRNN(units = 50, activation= 'tanh', return_sequences= True))\n",
        "regressor.add(Dropout(0.2))\n",
        "\n",
        "# Second RNN Layer and Dropout regularisation\n",
        "regressor.add(SimpleRNN(units = 50, activation= 'tanh', return_sequences= True))\n",
        "regressor.add(Dropout(0.2))\n",
        "\n",
        "# Third RNN Layer and Dropout regularisation\n",
        "regressor.add(SimpleRNN(units = 50, activation= 'tanh', return_sequences= True))\n",
        "regressor.add(Dropout(0.2))\n",
        "\n",
        "# Fourth RNN Layer and Dropout regularisation\n",
        "regressor.add(SimpleRNN(units = 50))\n",
        "regressor.add(Dropout(0.2))\n",
        "\n",
        "# Add the output Layer\n",
        "regressor.add(Dense(units=1))\n",
        "\n",
        "regressor.compile(optimizer= 'adam', loss='mean_squared_error')\n",
        "\n",
        "regressor.fit(X_train, Y_train, epochs=100, batch_size=32)"
      ],
      "metadata": {
        "colab": {
          "base_uri": "https://localhost:8080/"
        },
        "id": "jZ4DnstBgBKa",
        "outputId": "15545c02-ac66-404e-ea88-4b9c2f449fcc"
      },
      "execution_count": 59,
      "outputs": [
        {
          "output_type": "stream",
          "name": "stdout",
          "text": [
            "Epoch 1/100\n",
            "45/45 [==============================] - 6s 51ms/step - loss: 0.4064\n",
            "Epoch 2/100\n",
            "45/45 [==============================] - 3s 76ms/step - loss: 0.2307\n",
            "Epoch 3/100\n",
            "45/45 [==============================] - 2s 48ms/step - loss: 0.1635\n",
            "Epoch 4/100\n",
            "45/45 [==============================] - 3s 66ms/step - loss: 0.0990\n",
            "Epoch 5/100\n",
            "45/45 [==============================] - 2s 48ms/step - loss: 0.0765\n",
            "Epoch 6/100\n",
            "45/45 [==============================] - 2s 47ms/step - loss: 0.0631\n",
            "Epoch 7/100\n",
            "45/45 [==============================] - 3s 74ms/step - loss: 0.0561\n",
            "Epoch 8/100\n",
            "45/45 [==============================] - 2s 48ms/step - loss: 0.0441\n",
            "Epoch 9/100\n",
            "45/45 [==============================] - 2s 48ms/step - loss: 0.0351\n",
            "Epoch 10/100\n",
            "45/45 [==============================] - 2s 47ms/step - loss: 0.0288\n",
            "Epoch 11/100\n",
            "45/45 [==============================] - 4s 85ms/step - loss: 0.0283\n",
            "Epoch 12/100\n",
            "45/45 [==============================] - 3s 68ms/step - loss: 0.0249\n",
            "Epoch 13/100\n",
            "45/45 [==============================] - 2s 46ms/step - loss: 0.0236\n",
            "Epoch 14/100\n",
            "45/45 [==============================] - 2s 47ms/step - loss: 0.0222\n",
            "Epoch 15/100\n",
            "45/45 [==============================] - 2s 47ms/step - loss: 0.0184\n",
            "Epoch 16/100\n",
            "45/45 [==============================] - 2s 46ms/step - loss: 0.0164\n",
            "Epoch 17/100\n",
            "45/45 [==============================] - 3s 69ms/step - loss: 0.0167\n",
            "Epoch 18/100\n",
            "45/45 [==============================] - 2s 50ms/step - loss: 0.0142\n",
            "Epoch 19/100\n",
            "45/45 [==============================] - 2s 47ms/step - loss: 0.0141\n",
            "Epoch 20/100\n",
            "45/45 [==============================] - 2s 47ms/step - loss: 0.0132\n",
            "Epoch 21/100\n",
            "45/45 [==============================] - 2s 46ms/step - loss: 0.0111\n",
            "Epoch 22/100\n",
            "45/45 [==============================] - 2s 53ms/step - loss: 0.0130\n",
            "Epoch 23/100\n",
            "45/45 [==============================] - 3s 67ms/step - loss: 0.0094\n",
            "Epoch 24/100\n",
            "45/45 [==============================] - 2s 47ms/step - loss: 0.0093\n",
            "Epoch 25/100\n",
            "45/45 [==============================] - 2s 46ms/step - loss: 0.0083\n",
            "Epoch 26/100\n",
            "45/45 [==============================] - 2s 46ms/step - loss: 0.0081\n",
            "Epoch 27/100\n",
            "45/45 [==============================] - 2s 47ms/step - loss: 0.0079\n",
            "Epoch 28/100\n",
            "45/45 [==============================] - 3s 66ms/step - loss: 0.0074\n",
            "Epoch 29/100\n",
            "45/45 [==============================] - 2s 53ms/step - loss: 0.0074\n",
            "Epoch 30/100\n",
            "45/45 [==============================] - 2s 46ms/step - loss: 0.0067\n",
            "Epoch 31/100\n",
            "45/45 [==============================] - 2s 46ms/step - loss: 0.0067\n",
            "Epoch 32/100\n",
            "45/45 [==============================] - 2s 47ms/step - loss: 0.0066\n",
            "Epoch 33/100\n",
            "45/45 [==============================] - 2s 46ms/step - loss: 0.0066\n",
            "Epoch 34/100\n",
            "45/45 [==============================] - 3s 72ms/step - loss: 0.0057\n",
            "Epoch 35/100\n",
            "45/45 [==============================] - 2s 47ms/step - loss: 0.0055\n",
            "Epoch 36/100\n",
            "45/45 [==============================] - 2s 46ms/step - loss: 0.0054\n",
            "Epoch 37/100\n",
            "45/45 [==============================] - 2s 46ms/step - loss: 0.0048\n",
            "Epoch 38/100\n",
            "45/45 [==============================] - 2s 46ms/step - loss: 0.0058\n",
            "Epoch 39/100\n",
            "45/45 [==============================] - 3s 63ms/step - loss: 0.0060\n",
            "Epoch 40/100\n",
            "45/45 [==============================] - 3s 71ms/step - loss: 0.0044\n",
            "Epoch 41/100\n",
            "45/45 [==============================] - 2s 47ms/step - loss: 0.0048\n",
            "Epoch 42/100\n",
            "45/45 [==============================] - 2s 47ms/step - loss: 0.0041\n",
            "Epoch 43/100\n",
            "45/45 [==============================] - 2s 46ms/step - loss: 0.0039\n",
            "Epoch 44/100\n",
            "45/45 [==============================] - 2s 51ms/step - loss: 0.0044\n",
            "Epoch 45/100\n",
            "45/45 [==============================] - 3s 68ms/step - loss: 0.0035\n",
            "Epoch 46/100\n",
            "45/45 [==============================] - 2s 47ms/step - loss: 0.0042\n",
            "Epoch 47/100\n",
            "45/45 [==============================] - 2s 47ms/step - loss: 0.0036\n",
            "Epoch 48/100\n",
            "45/45 [==============================] - 2s 47ms/step - loss: 0.0039\n",
            "Epoch 49/100\n",
            "45/45 [==============================] - 2s 46ms/step - loss: 0.0036\n",
            "Epoch 50/100\n",
            "45/45 [==============================] - 3s 67ms/step - loss: 0.0032\n",
            "Epoch 51/100\n",
            "45/45 [==============================] - 2s 53ms/step - loss: 0.0036\n",
            "Epoch 52/100\n",
            "45/45 [==============================] - 2s 47ms/step - loss: 0.0034\n",
            "Epoch 53/100\n",
            "45/45 [==============================] - 2s 47ms/step - loss: 0.0032\n",
            "Epoch 54/100\n",
            "45/45 [==============================] - 2s 47ms/step - loss: 0.0033\n",
            "Epoch 55/100\n",
            "45/45 [==============================] - 2s 50ms/step - loss: 0.0030\n",
            "Epoch 56/100\n",
            "45/45 [==============================] - 3s 71ms/step - loss: 0.0034\n",
            "Epoch 57/100\n",
            "45/45 [==============================] - 2s 48ms/step - loss: 0.0030\n",
            "Epoch 58/100\n",
            "45/45 [==============================] - 2s 47ms/step - loss: 0.0028\n",
            "Epoch 59/100\n",
            "45/45 [==============================] - 2s 48ms/step - loss: 0.0026\n",
            "Epoch 60/100\n",
            "45/45 [==============================] - 2s 48ms/step - loss: 0.0027\n",
            "Epoch 61/100\n",
            "45/45 [==============================] - 3s 68ms/step - loss: 0.0024\n",
            "Epoch 62/100\n",
            "45/45 [==============================] - 2s 51ms/step - loss: 0.0027\n",
            "Epoch 63/100\n",
            "45/45 [==============================] - 2s 48ms/step - loss: 0.0026\n",
            "Epoch 64/100\n",
            "45/45 [==============================] - 2s 47ms/step - loss: 0.0028\n",
            "Epoch 65/100\n",
            "45/45 [==============================] - 2s 46ms/step - loss: 0.0029\n",
            "Epoch 66/100\n",
            "45/45 [==============================] - 2s 50ms/step - loss: 0.0028\n",
            "Epoch 67/100\n",
            "45/45 [==============================] - 3s 70ms/step - loss: 0.0024\n",
            "Epoch 68/100\n",
            "45/45 [==============================] - 2s 48ms/step - loss: 0.0023\n",
            "Epoch 69/100\n",
            "45/45 [==============================] - 2s 47ms/step - loss: 0.0036\n",
            "Epoch 70/100\n",
            "45/45 [==============================] - 2s 47ms/step - loss: 0.0023\n",
            "Epoch 71/100\n",
            "45/45 [==============================] - 2s 47ms/step - loss: 0.0027\n",
            "Epoch 72/100\n",
            "45/45 [==============================] - 3s 68ms/step - loss: 0.0021\n",
            "Epoch 73/100\n",
            "45/45 [==============================] - 2s 52ms/step - loss: 0.0019\n",
            "Epoch 74/100\n",
            "45/45 [==============================] - 2s 46ms/step - loss: 0.0023\n",
            "Epoch 75/100\n",
            "45/45 [==============================] - 2s 47ms/step - loss: 0.0022\n",
            "Epoch 76/100\n",
            "45/45 [==============================] - 2s 46ms/step - loss: 0.0021\n",
            "Epoch 77/100\n",
            "45/45 [==============================] - 2s 47ms/step - loss: 0.0021\n",
            "Epoch 78/100\n",
            "45/45 [==============================] - 3s 71ms/step - loss: 0.0021\n",
            "Epoch 79/100\n",
            "45/45 [==============================] - 2s 46ms/step - loss: 0.0022\n",
            "Epoch 80/100\n",
            "45/45 [==============================] - 2s 46ms/step - loss: 0.0018\n",
            "Epoch 81/100\n",
            "45/45 [==============================] - 2s 46ms/step - loss: 0.0021\n",
            "Epoch 82/100\n",
            "45/45 [==============================] - 2s 46ms/step - loss: 0.0019\n",
            "Epoch 83/100\n",
            "45/45 [==============================] - 3s 62ms/step - loss: 0.0018\n",
            "Epoch 84/100\n",
            "45/45 [==============================] - 3s 57ms/step - loss: 0.0018\n",
            "Epoch 85/100\n",
            "45/45 [==============================] - 2s 47ms/step - loss: 0.0017\n",
            "Epoch 86/100\n",
            "45/45 [==============================] - 2s 48ms/step - loss: 0.0017\n",
            "Epoch 87/100\n",
            "45/45 [==============================] - 2s 47ms/step - loss: 0.0019\n",
            "Epoch 88/100\n",
            "45/45 [==============================] - 3s 74ms/step - loss: 0.0018\n",
            "Epoch 89/100\n",
            "45/45 [==============================] - 3s 73ms/step - loss: 0.0018\n",
            "Epoch 90/100\n",
            "45/45 [==============================] - 2s 47ms/step - loss: 0.0019\n",
            "Epoch 91/100\n",
            "45/45 [==============================] - 2s 47ms/step - loss: 0.0017\n",
            "Epoch 92/100\n",
            "45/45 [==============================] - 2s 47ms/step - loss: 0.0018\n",
            "Epoch 93/100\n",
            "45/45 [==============================] - 2s 47ms/step - loss: 0.0016\n",
            "Epoch 94/100\n",
            "45/45 [==============================] - 3s 64ms/step - loss: 0.0015\n",
            "Epoch 95/100\n",
            "45/45 [==============================] - 3s 57ms/step - loss: 0.0018\n",
            "Epoch 96/100\n",
            "45/45 [==============================] - 2s 46ms/step - loss: 0.0016\n",
            "Epoch 97/100\n",
            "45/45 [==============================] - 2s 47ms/step - loss: 0.0016\n",
            "Epoch 98/100\n",
            "45/45 [==============================] - 2s 46ms/step - loss: 0.0016\n",
            "Epoch 99/100\n",
            "45/45 [==============================] - 2s 46ms/step - loss: 0.0016\n",
            "Epoch 100/100\n",
            "45/45 [==============================] - 3s 75ms/step - loss: 0.0021\n"
          ]
        },
        {
          "output_type": "execute_result",
          "data": {
            "text/plain": [
              "<keras.callbacks.History at 0x7fa044d31dc0>"
            ]
          },
          "metadata": {},
          "execution_count": 59
        }
      ]
    },
    {
      "cell_type": "code",
      "source": [
        "inputs = data_set[len(data_set) - len(test) - timesteps:]\n",
        "inputs = scaler.transform(inputs)"
      ],
      "metadata": {
        "id": "N6iKR7cUWdJN"
      },
      "execution_count": 60,
      "outputs": []
    },
    {
      "cell_type": "code",
      "source": [
        "X_test = []\n",
        "for i in range(timesteps, inputs.shape[0]):\n",
        "  X_test.append(inputs[i - timesteps:i, 0])\n",
        "\n",
        "X_test_rnn = np.array(X_test)\n",
        "X_test_rnn = np.reshape(X_test_rnn, (X_test_rnn.shape[0], X_test_rnn.shape[1],1))\n",
        "predicted_stock_price = regressor.predict(X_test_rnn)\n",
        "predicted_stock_price = scaler.inverse_transform(predicted_stock_price)"
      ],
      "metadata": {
        "colab": {
          "base_uri": "https://localhost:8080/"
        },
        "id": "co4FALw7dz0h",
        "outputId": "0da8e2aa-28ca-4b2c-e1c8-ff785a120be3"
      },
      "execution_count": 61,
      "outputs": [
        {
          "output_type": "stream",
          "name": "stdout",
          "text": [
            "2/2 [==============================] - 0s 15ms/step\n"
          ]
        }
      ]
    },
    {
      "cell_type": "code",
      "source": [
        "#visualising the results\n",
        "plt.plot(test,color='red',label='Real Google Stock Price')\n",
        "plt.plot(predicted_stock_price, color='blue',label='Predicted Google Stock Price')\n",
        "plt.title('Google Stock Price Prediction')\n",
        "plt.xlabel('Time')\n",
        "plt.ylabel('Google Stock Price')\n",
        "plt.legend()\n",
        "plt.show()"
      ],
      "metadata": {
        "colab": {
          "base_uri": "https://localhost:8080/",
          "height": 295
        },
        "id": "dAzZbThyerW3",
        "outputId": "bd2eb510-2275-4555-8746-f8d7e95fa69a"
      },
      "execution_count": 62,
      "outputs": [
        {
          "output_type": "display_data",
          "data": {
            "text/plain": [
              "<Figure size 432x288 with 1 Axes>"
            ],
            "image/png": "[encoded data removed]"
          },
          "metadata": {
            "needs_background": "light"
          }
        }
      ]
    },
    {
      "cell_type": "code",
      "source": [
        "trainX = np.reshape(X_train, (X_train.shape[0], 1, X_train.shape[1]))"
      ],
      "metadata": {
        "id": "u7WHaKVgfSnl"
      },
      "execution_count": 63,
      "outputs": []
    },
    {
      "cell_type": "markdown",
      "source": [
        "##Implementing LSTM(Long short-term memory)"
      ],
      "metadata": {
        "id": "6FmyZwR5Rks7"
      }
    },
    {
      "cell_type": "code",
      "source": [
        "from sklearn.metrics import mean_squared_error\n",
        "from keras.models import Sequential\n",
        "from keras.layers import Dense,LSTM\n",
        "\n",
        "\n",
        "model = Sequential()\n",
        "model.add(LSTM(10,input_shape =(1, timesteps)))\n",
        "model.add(Dense(1))\n",
        "model.compile(loss = 'mean_squared_error', optimizer ='adam')\n",
        "model.fit(trainX, Y_train, epochs = 50, batch_size = 1)"
      ],
      "metadata": {
        "colab": {
          "base_uri": "https://localhost:8080/"
        },
        "id": "YbC5TYHCf9jx",
        "outputId": "a196b2f3-ecf0-4f28-c607-6739a4f06d5a"
      },
      "execution_count": 64,
      "outputs": [
        {
          "output_type": "stream",
          "name": "stdout",
          "text": [
            "Epoch 1/50\n",
            "1410/1410 [==============================] - 4s 2ms/step - loss: 0.0038\n",
            "Epoch 2/50\n",
            "1410/1410 [==============================] - 3s 2ms/step - loss: 0.0014\n",
            "Epoch 3/50\n",
            "1410/1410 [==============================] - 4s 3ms/step - loss: 0.0011\n",
            "Epoch 4/50\n",
            "1410/1410 [==============================] - 3s 2ms/step - loss: 9.0097e-04\n",
            "Epoch 5/50\n",
            "1410/1410 [==============================] - 3s 2ms/step - loss: 9.5876e-04\n",
            "Epoch 6/50\n",
            "1410/1410 [==============================] - 3s 2ms/step - loss: 7.7786e-04\n",
            "Epoch 7/50\n",
            "1410/1410 [==============================] - 4s 3ms/step - loss: 8.3165e-04\n",
            "Epoch 8/50\n",
            "1410/1410 [==============================] - 3s 2ms/step - loss: 7.9040e-04\n",
            "Epoch 9/50\n",
            "1410/1410 [==============================] - 3s 2ms/step - loss: 8.8628e-04\n",
            "Epoch 10/50\n",
            "1410/1410 [==============================] - 3s 2ms/step - loss: 7.2155e-04\n",
            "Epoch 11/50\n",
            "1410/1410 [==============================] - 4s 3ms/step - loss: 7.8395e-04\n",
            "Epoch 12/50\n",
            "1410/1410 [==============================] - 3s 2ms/step - loss: 7.1228e-04\n",
            "Epoch 13/50\n",
            "1410/1410 [==============================] - 3s 2ms/step - loss: 6.5936e-04\n",
            "Epoch 14/50\n",
            "1410/1410 [==============================] - 3s 2ms/step - loss: 6.9323e-04\n",
            "Epoch 15/50\n",
            "1410/1410 [==============================] - 4s 3ms/step - loss: 6.9915e-04\n",
            "Epoch 16/50\n",
            "1410/1410 [==============================] - 3s 2ms/step - loss: 5.6543e-04\n",
            "Epoch 17/50\n",
            "1410/1410 [==============================] - 3s 2ms/step - loss: 5.9930e-04\n",
            "Epoch 18/50\n",
            "1410/1410 [==============================] - 3s 2ms/step - loss: 5.7524e-04\n",
            "Epoch 19/50\n",
            "1410/1410 [==============================] - 4s 3ms/step - loss: 5.8700e-04\n",
            "Epoch 20/50\n",
            "1410/1410 [==============================] - 3s 2ms/step - loss: 5.7085e-04\n",
            "Epoch 21/50\n",
            "1410/1410 [==============================] - 3s 2ms/step - loss: 5.5987e-04\n",
            "Epoch 22/50\n",
            "1410/1410 [==============================] - 3s 2ms/step - loss: 5.8063e-04\n",
            "Epoch 23/50\n",
            "1410/1410 [==============================] - 4s 3ms/step - loss: 5.9704e-04\n",
            "Epoch 24/50\n",
            "1410/1410 [==============================] - 3s 2ms/step - loss: 5.7122e-04\n",
            "Epoch 25/50\n",
            "1410/1410 [==============================] - 3s 2ms/step - loss: 5.9451e-04\n",
            "Epoch 26/50\n",
            "1410/1410 [==============================] - 3s 2ms/step - loss: 5.1770e-04\n",
            "Epoch 27/50\n",
            "1410/1410 [==============================] - 4s 3ms/step - loss: 5.4716e-04\n",
            "Epoch 28/50\n",
            "1410/1410 [==============================] - 3s 2ms/step - loss: 5.0453e-04\n",
            "Epoch 29/50\n",
            "1410/1410 [==============================] - 3s 2ms/step - loss: 5.8589e-04\n",
            "Epoch 30/50\n",
            "1410/1410 [==============================] - 3s 2ms/step - loss: 5.3859e-04\n",
            "Epoch 31/50\n",
            "1410/1410 [==============================] - 4s 3ms/step - loss: 5.1349e-04\n",
            "Epoch 32/50\n",
            "1410/1410 [==============================] - 3s 2ms/step - loss: 5.4845e-04\n",
            "Epoch 33/50\n",
            "1410/1410 [==============================] - 3s 2ms/step - loss: 5.1720e-04\n",
            "Epoch 34/50\n",
            "1410/1410 [==============================] - 3s 2ms/step - loss: 5.3198e-04\n",
            "Epoch 35/50\n",
            "1410/1410 [==============================] - 4s 3ms/step - loss: 5.2479e-04\n",
            "Epoch 36/50\n",
            "1410/1410 [==============================] - 3s 2ms/step - loss: 5.5088e-04\n",
            "Epoch 37/50\n",
            "1410/1410 [==============================] - 3s 2ms/step - loss: 5.0352e-04\n",
            "Epoch 38/50\n",
            "1410/1410 [==============================] - 3s 2ms/step - loss: 4.5647e-04\n",
            "Epoch 39/50\n",
            "1410/1410 [==============================] - 4s 3ms/step - loss: 4.6150e-04\n",
            "Epoch 40/50\n",
            "1410/1410 [==============================] - 3s 2ms/step - loss: 4.7460e-04\n",
            "Epoch 41/50\n",
            "1410/1410 [==============================] - 3s 2ms/step - loss: 4.4182e-04\n",
            "Epoch 42/50\n",
            "1410/1410 [==============================] - 3s 2ms/step - loss: 4.9240e-04\n",
            "Epoch 43/50\n",
            "1410/1410 [==============================] - 4s 3ms/step - loss: 4.4859e-04\n",
            "Epoch 44/50\n",
            "1410/1410 [==============================] - 3s 2ms/step - loss: 4.7221e-04\n",
            "Epoch 45/50\n",
            "1410/1410 [==============================] - 3s 2ms/step - loss: 4.9310e-04\n",
            "Epoch 46/50\n",
            "1410/1410 [==============================] - 3s 2ms/step - loss: 4.3251e-04\n",
            "Epoch 47/50\n",
            "1410/1410 [==============================] - 4s 3ms/step - loss: 4.2225e-04\n",
            "Epoch 48/50\n",
            "1410/1410 [==============================] - 3s 2ms/step - loss: 4.7092e-04\n",
            "Epoch 49/50\n",
            "1410/1410 [==============================] - 3s 2ms/step - loss: 4.2901e-04\n",
            "Epoch 50/50\n",
            "1410/1410 [==============================] - 3s 2ms/step - loss: 4.3732e-04\n"
          ]
        },
        {
          "output_type": "execute_result",
          "data": {
            "text/plain": [
              "<keras.callbacks.History at 0x7fa044ecac70>"
            ]
          },
          "metadata": {},
          "execution_count": 64
        }
      ]
    },
    {
      "cell_type": "code",
      "source": [
        "testX = np.array(X_test)\n",
        "testX = testX.reshape(testX.shape[0], 1, testX.shape[1])\n",
        "\n",
        "predict_lstm = model.predict(testX)\n",
        "predict_lstm = scaler.inverse_transform(predict_lstm)"
      ],
      "metadata": {
        "colab": {
          "base_uri": "https://localhost:8080/"
        },
        "id": "efhs8AxRku6l",
        "outputId": "2e907f04-7294-4623-f063-8be57ffb4f19"
      },
      "execution_count": 65,
      "outputs": [
        {
          "output_type": "stream",
          "name": "stdout",
          "text": [
            "2/2 [==============================] - 1s 9ms/step\n"
          ]
        }
      ]
    },
    {
      "cell_type": "code",
      "source": [
        "#visualising the results\n",
        "plt.plot(test,color='red',label='Real Google Stock Price')\n",
        "plt.plot(predict_lstm, color='blue',label='Predicted Google Stock Price')\n",
        "plt.title('Google Stock Price Prediction')\n",
        "plt.xlabel('Time')\n",
        "plt.ylabel('Google Stock Price')\n",
        "plt.legend()\n",
        "plt.show()"
      ],
      "metadata": {
        "colab": {
          "base_uri": "https://localhost:8080/",
          "height": 295
        },
        "id": "jWJupTq4u_hk",
        "outputId": "76b7276b-e284-427b-e661-f946d9b2e170"
      },
      "execution_count": 66,
      "outputs": [
        {
          "output_type": "display_data",
          "data": {
            "text/plain": [
              "<Figure size 432x288 with 1 Axes>"
            ],
            "image/png": "[encoded data removed]"
          },
          "metadata": {
            "needs_background": "light"
          }
        }
      ]
    },
    {
      "cell_type": "markdown",
      "source": [
        "The LSTM provides better prediction than RNN."
      ],
      "metadata": {
        "id": "V3GTUHDUSLf4"
      }
    }
  ]
}